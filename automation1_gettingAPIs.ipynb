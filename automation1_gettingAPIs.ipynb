{
 "cells": [
  {
   "cell_type": "code",
   "execution_count": 1,
   "id": "15de5536",
   "metadata": {},
   "outputs": [],
   "source": [
    "# Getting a JSON file from a webpage"
   ]
  },
  {
   "cell_type": "code",
   "execution_count": 4,
   "id": "294aff0b",
   "metadata": {},
   "outputs": [],
   "source": [
    "import requests\n",
    "\n",
    "\n",
    "url_api = 'https://zapier.com/blog/python-automation/'\n",
    "\n",
    "usa_req = requests.get(url_api)\n",
    "\n",
    "\n",
    "\n",
    "# usa_json = usa_req.json()\n",
    "\n",
    "\n",
    "# Do something with the json response to prove it works. \n",
    "\n",
    "# print(usa_json)"
   ]
  },
  {
   "cell_type": "code",
   "execution_count": null,
   "id": "0a99551e",
   "metadata": {},
   "outputs": [],
   "source": []
  }
 ],
 "metadata": {
  "kernelspec": {
   "display_name": "Python 3 (ipykernel)",
   "language": "python",
   "name": "python3"
  },
  "language_info": {
   "codemirror_mode": {
    "name": "ipython",
    "version": 3
   },
   "file_extension": ".py",
   "mimetype": "text/x-python",
   "name": "python",
   "nbconvert_exporter": "python",
   "pygments_lexer": "ipython3",
   "version": "3.9.13"
  }
 },
 "nbformat": 4,
 "nbformat_minor": 5
}
